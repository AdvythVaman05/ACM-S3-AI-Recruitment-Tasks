{
  "nbformat": 4,
  "nbformat_minor": 0,
  "metadata": {
    "colab": {
      "provenance": [],
      "authorship_tag": "ABX9TyMtAeXX1UZq5VzhYy/UblT/",
      "include_colab_link": true
    },
    "kernelspec": {
      "name": "python3",
      "display_name": "Python 3"
    },
    "language_info": {
      "name": "python"
    }
  },
  "cells": [
    {
      "cell_type": "markdown",
      "metadata": {
        "id": "view-in-github",
        "colab_type": "text"
      },
      "source": [
        "<a href=\"https://colab.research.google.com/github/KrishFusionX/ACM-S3-AI-Recruitment-Tasks/blob/main/Task_1_Image_Segmentation_using_KMeans_Clustering.ipynb\" target=\"_parent\"><img src=\"https://colab.research.google.com/assets/colab-badge.svg\" alt=\"Open In Colab\"/></a>"
      ]
    },
    {
      "cell_type": "code",
      "execution_count": 1,
      "metadata": {
        "colab": {
          "base_uri": "https://localhost:8080/"
        },
        "id": "e0vezdwFbvUV",
        "outputId": "100a5ab1-3481-4202-f5af-fd95bb14a622"
      },
      "outputs": [
        {
          "output_type": "stream",
          "name": "stdout",
          "text": [
            "Cloning into 'ACM-S3-AI-Recruitment-Tasks'...\n",
            "remote: Enumerating objects: 14, done.\u001b[K\n",
            "remote: Counting objects: 100% (14/14), done.\u001b[K\n",
            "remote: Compressing objects: 100% (12/12), done.\u001b[K\n",
            "remote: Total 14 (delta 3), reused 0 (delta 0), pack-reused 0 (from 0)\u001b[K\n",
            "Receiving objects: 100% (14/14), 10.89 KiB | 10.89 MiB/s, done.\n",
            "Resolving deltas: 100% (3/3), done.\n"
          ]
        }
      ],
      "source": [
        "!git clone https://github.com/KrishFusionX/ACM-S3-AI-Recruitment-Tasks.git"
      ]
    },
    {
      "cell_type": "code",
      "source": [
        "%cd ACM-S3-AI-Recruitment-Tasks"
      ],
      "metadata": {
        "colab": {
          "base_uri": "https://localhost:8080/"
        },
        "id": "WBpS53eFcNOR",
        "outputId": "84c117b5-940b-4a54-bd40-9be36e17eb6d"
      },
      "execution_count": 2,
      "outputs": [
        {
          "output_type": "stream",
          "name": "stdout",
          "text": [
            "/content/ACM-S3-AI-Recruitment-Tasks\n"
          ]
        }
      ]
    },
    {
      "cell_type": "code",
      "source": [
        "import numpy as np\n",
        "import matplotlib.pyplot as plt\n",
        "from skimage.io import imread, imshow\n",
        "import '/content/ACM-S3-AI-Recruitment-Tasks/KMeansClustering.py' as KMeansClustering\n",
        "\n",
        "\n",
        "# Assuming KMeansClustering class from the previous code is already implemented\n",
        "\n",
        "def segment_image(image_path, k=3, n_init=10, max_iterations=200):\n",
        "    # Step 1: Load and preprocess the image\n",
        "    image = imread(image_path)\n",
        "    original_shape = image.shape\n",
        "\n",
        "    # Reshape the image to be a list of pixels\n",
        "    pixels = image.reshape(-1, 3)  # (width*height, 3)\n",
        "\n",
        "    # Normalize pixel values to the range [0, 1]\n",
        "    pixels = pixels / 255.0\n",
        "\n",
        "    # Step 2: Apply KMeans Clustering\n",
        "    kmeans = KMeansClustering(k=k, n_init=n_init)\n",
        "    labels = kmeans.fit(pixels, max_iterations=max_iterations)\n",
        "\n",
        "    # Step 3: Reconstruct the segmented image\n",
        "    segmented_image = np.zeros_like(pixels)\n",
        "    for i, label in enumerate(labels):\n",
        "        segmented_image[i] = kmeans.best_centroids[label]  # Replace pixel with the centroid of its cluster\n",
        "\n",
        "    # Reshape back to the original image shape\n",
        "    segmented_image = segmented_image.reshape(original_shape)\n",
        "\n",
        "    # Convert the pixel values back to the range [0, 255] and to uint8\n",
        "    segmented_image = (segmented_image * 255).astype(np.uint8)\n",
        "\n",
        "    # Step 4: Display the original and segmented images\n",
        "    plt.figure(figsize=(10, 5))\n",
        "\n",
        "    # Original image\n",
        "    plt.subplot(1, 2, 1)\n",
        "    plt.title(\"Original Image\")\n",
        "    imshow(image)\n",
        "\n",
        "    # Segmented image\n",
        "    plt.subplot(1, 2, 2)\n",
        "    plt.title(f\"Segmented Image with {k} colors\")\n",
        "    imshow(segmented_image)\n",
        "\n",
        "    plt.show()\n",
        "\n",
        "\n",
        "segment_image('/content/ACM-S3-AI-Recruitment-Tasks/dog.jpeg', k=5, n_init=10, max_iterations=200)\n"
      ],
      "metadata": {
        "colab": {
          "base_uri": "https://localhost:8080/",
          "height": 106
        },
        "id": "A7aRynIwcTYS",
        "outputId": "aeead392-ae60-4a20-c180-ae770f227401"
      },
      "execution_count": 5,
      "outputs": [
        {
          "output_type": "error",
          "ename": "SyntaxError",
          "evalue": "invalid syntax (<ipython-input-5-9080c5db15a0>, line 4)",
          "traceback": [
            "\u001b[0;36m  File \u001b[0;32m\"<ipython-input-5-9080c5db15a0>\"\u001b[0;36m, line \u001b[0;32m4\u001b[0m\n\u001b[0;31m    import '/content/ACM-S3-AI-Recruitment-Tasks/KMeansClustering.py' as KMeansClustering\u001b[0m\n\u001b[0m           ^\u001b[0m\n\u001b[0;31mSyntaxError\u001b[0m\u001b[0;31m:\u001b[0m invalid syntax\n"
          ]
        }
      ]
    }
  ]
}